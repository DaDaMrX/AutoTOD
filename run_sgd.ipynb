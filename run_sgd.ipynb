{
 "cells": [
  {
   "cell_type": "code",
   "execution_count": 1,
   "metadata": {},
   "outputs": [],
   "source": [
    "%load_ext autoreload\n",
    "%autoreload 2"
   ]
  },
  {
   "cell_type": "markdown",
   "metadata": {},
   "source": [
    "# Data"
   ]
  },
  {
   "cell_type": "code",
   "execution_count": 2,
   "metadata": {},
   "outputs": [
    {
     "name": "stdout",
     "output_type": "stream",
     "text": [
      "Loading dialogs from \"data/sgd/origin/train\"...\n",
      "Loading dialogs from \"data/sgd/origin/dev\"...\n",
      "Loading dialogs from \"data/sgd/origin/test\"...\n",
      "Loading completed. 22825 dialogs loaded.\n"
     ]
    }
   ],
   "source": [
    "from sgd.utils import load_schemas, load_dialogs\n",
    "\n",
    "schemas = load_schemas()\n",
    "dialogs = load_dialogs()"
   ]
  },
  {
   "cell_type": "code",
   "execution_count": null,
   "metadata": {},
   "outputs": [],
   "source": [
    "from sgd.utils import pick_dialog, show_dialog, show_dialog_goals\n",
    "from sgd.user import extract_user_goals\n",
    "\n",
    "dialog_id = 'random'\n",
    "dialog_id = 'train_96_00114'\n",
    "\n",
    "dialog = pick_dialog(dialogs, dialog_id=dialog_id)\n",
    "print(f'{dialog[\"dialogue_id\"]}, {dialog[\"services\"]}', end='\\n\\n')\n",
    "\n",
    "show_dialog(dialog)\n",
    "print()\n",
    "goals = extract_user_goals(dialog)\n",
    "show_dialog_goals(goals)"
   ]
  },
  {
   "cell_type": "code",
   "execution_count": null,
   "metadata": {},
   "outputs": [],
   "source": [
    "from sgd.engine import run\n",
    "\n",
    "logs, cost, callings = run(dialog, save_prompts=True)"
   ]
  },
  {
   "cell_type": "code",
   "execution_count": null,
   "metadata": {},
   "outputs": [],
   "source": [
    "from sgd.evaluate import evaluate, show_eval_result\n",
    "\n",
    "eval_result, cost = evaluate(dialog, logs, callings)\n",
    "\n",
    "show_eval_result(eval_result)"
   ]
  }
 ],
 "metadata": {
  "kernelspec": {
   "display_name": "base",
   "language": "python",
   "name": "python3"
  },
  "language_info": {
   "codemirror_mode": {
    "name": "ipython",
    "version": 3
   },
   "file_extension": ".py",
   "mimetype": "text/x-python",
   "name": "python",
   "nbconvert_exporter": "python",
   "pygments_lexer": "ipython3",
   "version": "3.9.1"
  },
  "orig_nbformat": 4
 },
 "nbformat": 4,
 "nbformat_minor": 2
}
