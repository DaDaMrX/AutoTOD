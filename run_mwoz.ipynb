{
 "cells": [
  {
   "cell_type": "code",
   "execution_count": 1,
   "metadata": {},
   "outputs": [],
   "source": [
    "%load_ext autoreload\n",
    "%autoreload 2"
   ]
  },
  {
   "attachments": {},
   "cell_type": "markdown",
   "metadata": {},
   "source": [
    "## Data"
   ]
  },
  {
   "cell_type": "code",
   "execution_count": 2,
   "metadata": {},
   "outputs": [
    {
     "data": {
      "text/plain": [
       "9906"
      ]
     },
     "execution_count": 2,
     "metadata": {},
     "output_type": "execute_result"
    }
   ],
   "source": [
    "from utils import *\n",
    "\n",
    "data = load_data()\n",
    "len(data)"
   ]
  },
  {
   "cell_type": "code",
   "execution_count": 3,
   "metadata": {},
   "outputs": [
    {
     "name": "stdout",
     "output_type": "stream",
     "text": [
      "[Dialog Id] PMUL3615.json\n",
      "\n",
      "[User Goals]\n",
      "You are looking for information in Cambridge.\n",
      "You are looking for a train. The train should arrive by 09:15 and should go to cambridge.\n",
      "The train should depart from stansted airport and should leave on friday.\n",
      "Once you find the train you want to make a booking for 1 people.\n",
      "Make sure you get the reference number.\n",
      "You are also looking for a place to stay. The hotel should include free wifi and should be in the moderate price range.\n",
      "The hotel should be in the north.\n",
      "Make sure you get postcode and phone number.\n",
      "\n",
      "[hotel]\n",
      "{'fail_info': {},\n",
      " 'info': {'area': 'north', 'internet': 'yes', 'pricerange': 'moderate'},\n",
      " 'reqt': ['postcode', 'phone']}\n",
      "\n",
      "[train]\n",
      "{'book': {'invalid': False, 'people': '1'},\n",
      " 'fail_book': {},\n",
      " 'fail_info': {},\n",
      " 'info': {'arriveBy': '09:15',\n",
      "          'day': 'friday',\n",
      "          'departure': 'stansted airport',\n",
      "          'destination': 'cambridge'}}\n",
      "\n",
      "\n",
      "User: Is it possible to get a morning train that arrives in Cambridge by 9:15 or do you need to get there the night before?\n",
      "AI Assistant: There are plenty of trains arriving that early. Where are you coming from, and what day are you traveling?\n",
      "User: I'll be coming in from Stansted Airport on Friday.\n",
      "AI Assistant: We have four early morning trains available that day, one every hour from 5:24 to 8:24. Would you like to book one?\n",
      "User: Yes, please! The one at 8:24 please. 1 person. Give me the reference number. \n",
      "AI Assistant: I was able to book it, the reference number is O6ZSM73S.\n",
      "User: Thanks. I'm also looking for information on moderately priced hotels with free wifi.\n",
      "AI Assistant: I have 17 locations. Do you have an area of town you'd like to stay in?\n",
      "User: The hotel should be in the north.\n",
      "AI Assistant: how about hamilton lodge? i hear they're great.\n",
      "User: Sounds good. Could you get me the postcode and the phone number? \n",
      "AI Assistant: phone number is 01223365664 and postal code cb41da\n",
      "User: OK book that please \n",
      "AI Assistant: When would you like to arrive, and how many guests are in your party?\n",
      "User: Actually, I don't want to book yet.  Thanks for the information. I think that is all I need.\n",
      "AI Assistant: Thank you for using our services.  Have we met all of your needs today?\n",
      "User: That is all I need. Goodbye. \n",
      "AI Assistant: Ok. Thank you and goodbye.\n"
     ]
    }
   ],
   "source": [
    "dialog, dialog_id = pick_dialog(data, dialog_id='random', domain='all', exclusive=False)\n",
    "print_dialog_goal(dialog, dialog_id)\n",
    "print()\n",
    "show_dialog_text(dialog)"
   ]
  },
  {
   "attachments": {},
   "cell_type": "markdown",
   "metadata": {},
   "source": [
    "## Engine"
   ]
  },
  {
   "cell_type": "code",
   "execution_count": null,
   "metadata": {},
   "outputs": [],
   "source": [
    "import engine\n",
    "\n",
    "model_name = 'gpt-3.5-turbo-0301'\n",
    "run_result = engine.run(dialog, agent_type='react', agent_model=model_name, user_model=model_name)"
   ]
  },
  {
   "attachments": {},
   "cell_type": "markdown",
   "metadata": {},
   "source": [
    "## Eval"
   ]
  },
  {
   "cell_type": "code",
   "execution_count": 7,
   "metadata": {},
   "outputs": [
    {
     "name": "stdout",
     "output_type": "stream",
     "text": [
      "========================================\n",
      "\u001b[1;31m[domain]\u001b[0m attraction\n",
      "\u001b[1;31m[goal]\u001b[0m\n",
      "    \u001b[1;33minfo: \u001b[0m{'type': 'cinema', 'area': 'centre'}\n",
      "    \u001b[1;33mreqt: \u001b[0m['address', 'postcode', 'phone']\n",
      "    \u001b[1;33mfail_info: \u001b[0m{'type': 'entertainment', 'area': 'centre'}\n",
      "\u001b[1;31m[inform] complete: 1\u001b[0m\n",
      "    \u001b[1;33mvenue_name: \u001b[0mVue Cinema\n",
      "    \u001b[1;33mvenue_info: \u001b[0mAttraction:\n",
      "{'address': 'the grafton centre, east road',\n",
      " 'area': 'centre',\n",
      " 'entrance_fee': '?',\n",
      " 'id': 75,\n",
      " 'name': 'vue cinema',\n",
      " 'phone': '08712240240',\n",
      " 'postcode': 'cb11ps',\n",
      " 'type': 'cinema'}\n",
      "\u001b[1;31m[success] complete: 1\u001b[0m\n",
      "    \u001b[1;33mslot_values: \u001b[0m{'address': 'The Grafton Centre, East Road', 'postcode': 'CB1 1PS', 'phone': '0871 224 0240'}\n",
      "\u001b[1;31m[book] complete: None\u001b[0m\n",
      "    \u001b[1;33mrefer_number: \u001b[0mNone\n",
      "    \u001b[1;33mbook_record: \u001b[0mNone\n",
      "========================================\n",
      "\u001b[1;31m[domain]\u001b[0m train\n",
      "\u001b[1;31m[goal]\u001b[0m\n",
      "    \u001b[1;33minfo: \u001b[0m{'leaveAt': '13:45', 'destination': 'peterborough', 'day': 'sunday', 'departure': 'cambridge'}\n",
      "    \u001b[1;33mreqt: \u001b[0m['trainID', 'duration', 'price']\n",
      "    \u001b[1;33mfail_info: \u001b[0m{}\n",
      "\u001b[1;31m[inform] complete: 0\u001b[0m\n",
      "\u001b[1;31m[success] complete: 0\u001b[0m\n",
      "    \u001b[1;33mslot_values: \u001b[0m{'trainID': 'TR6028', 'duration': '51 minutes', 'price': '£23.60'}\n",
      "\u001b[1;31m[book] complete: None\u001b[0m\n",
      "    \u001b[1;33mrefer_number: \u001b[0mNone\n",
      "    \u001b[1;33mbook_record: \u001b[0mNone\n",
      "    \u001b[1;33mtrain_info: \u001b[0mNone\n"
     ]
    }
   ],
   "source": [
    "from utils import DOMAINS\n",
    "from evaluate import evaluate_by_domain\n",
    "\n",
    "for domain in DOMAINS:\n",
    "    if not dialog['goal'].get(domain):\n",
    "        continue\n",
    "    print('=' * 40)\n",
    "    try:\n",
    "        eval_result = evaluate_by_domain(domain, run_result)\n",
    "    except Exception as e:\n",
    "        msg = f'Run dialog failed as {e.__class__.__name__}: '\n",
    "        print(colored(msg, 'red') + str(e))"
   ]
  }
 ],
 "metadata": {
  "kernelspec": {
   "display_name": "base",
   "language": "python",
   "name": "python3"
  },
  "language_info": {
   "codemirror_mode": {
    "name": "ipython",
    "version": 3
   },
   "file_extension": ".py",
   "mimetype": "text/x-python",
   "name": "python",
   "nbconvert_exporter": "python",
   "pygments_lexer": "ipython3",
   "version": "3.9.1"
  },
  "orig_nbformat": 4
 },
 "nbformat": 4,
 "nbformat_minor": 2
}
