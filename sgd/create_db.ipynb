{
 "cells": [
  {
   "cell_type": "markdown",
   "metadata": {},
   "source": [
    "# Create SGD DB\n",
    "> Run in project root directory"
   ]
  },
  {
   "cell_type": "code",
   "execution_count": 1,
   "metadata": {},
   "outputs": [],
   "source": [
    "%load_ext autoreload\n",
    "%autoreload 2"
   ]
  },
  {
   "cell_type": "markdown",
   "metadata": {},
   "source": [
    "## Load"
   ]
  },
  {
   "cell_type": "code",
   "execution_count": 3,
   "metadata": {},
   "outputs": [
    {
     "data": {
      "text/plain": [
       "(45, 22825)"
      ]
     },
     "execution_count": 3,
     "metadata": {},
     "output_type": "execute_result"
    }
   ],
   "source": [
    "from sgd.utils import load_schemas, load_dialogs\n",
    "\n",
    "schemas = load_schemas()\n",
    "dialogs = load_dialogs()\n",
    "\n",
    "len(schemas), len(dialogs)"
   ]
  },
  {
   "cell_type": "markdown",
   "metadata": {},
   "source": [
    "## Collect DB Records"
   ]
  },
  {
   "cell_type": "code",
   "execution_count": 4,
   "metadata": {},
   "outputs": [
    {
     "data": {
      "text/plain": [
       "1254"
      ]
     },
     "execution_count": 4,
     "metadata": {},
     "output_type": "execute_result"
    }
   ],
   "source": [
    "from collections import defaultdict\n",
    "\n",
    "tables = defaultdict(list)\n",
    "\n",
    "for dialog in dialogs.values():\n",
    "    for turn in dialog['turns']:\n",
    "        if turn['speaker'] != 'SYSTEM':\n",
    "            continue\n",
    "        for frame in turn['frames']:\n",
    "            if 'service_results' not in frame:\n",
    "                continue\n",
    "            service_name = frame['service']\n",
    "            intent_name = frame['service_call']['method']\n",
    "            schema = schemas[service_name]\n",
    "            intents_dict = {intent['name']: intent for intent in schema['intents']}\n",
    "            intent = intents_dict[intent_name]\n",
    "            if intent['is_transactional']:\n",
    "                continue\n",
    "            for result in frame['service_results']:\n",
    "                tables[frame['service']].append(result)\n",
    "\n",
    "# Deduplication\n",
    "for name, table in tables.items():\n",
    "    d = {str(a): a for a in table}\n",
    "    tables[name] = list(d.values())\n",
    "\n",
    "\n",
    "len(tables['Travel_1'])"
   ]
  },
  {
   "cell_type": "markdown",
   "metadata": {},
   "source": [
    "## Field Type\n",
    "- field_data_type\n",
    "- field_info_type"
   ]
  },
  {
   "cell_type": "code",
   "execution_count": 5,
   "metadata": {},
   "outputs": [
    {
     "data": {
      "text/plain": [
       "{'location': 'TEXT',\n",
       " 'attraction_name': 'TEXT',\n",
       " 'category': 'TEXT',\n",
       " 'phone_number': 'TEXT',\n",
       " 'free_entry': 'TEXT',\n",
       " 'good_for_kids': 'TEXT'}"
      ]
     },
     "execution_count": 5,
     "metadata": {},
     "output_type": "execute_result"
    }
   ],
   "source": [
    "def is_float(string):\n",
    "    try:\n",
    "        float(string)\n",
    "        return True\n",
    "    except ValueError:\n",
    "        return False\n",
    "\n",
    "field_data_type = defaultdict(dict)  # service -> field -> type\n",
    "for service_name, schema in schemas.items():\n",
    "    table = tables[service_name]\n",
    "    for slot in schema['slots']:\n",
    "        field = slot['name']\n",
    "        if all(item[field].isdigit() for item in table if field in item):\n",
    "            field_data_type[service_name][field] = 'INTEGER'\n",
    "        elif all(is_float(item[field]) for item in table if field in item):\n",
    "            field_data_type[service_name][field] = 'REAL'\n",
    "        else:\n",
    "            field_data_type[service_name][field] = 'TEXT'\n",
    "\n",
    "field_data_type['Travel_1']"
   ]
  },
  {
   "cell_type": "code",
   "execution_count": 8,
   "metadata": {},
   "outputs": [
    {
     "data": {
      "text/plain": [
       "{'category': 'info',\n",
       " 'subcategory': 'info',\n",
       " 'event_name': 'info',\n",
       " 'date': 'info',\n",
       " 'time': 'info',\n",
       " 'number_of_seats': 'tran',\n",
       " 'city_of_event': 'info',\n",
       " 'event_location': 'info',\n",
       " 'address_of_location': 'info'}"
      ]
     },
     "execution_count": 8,
     "metadata": {},
     "output_type": "execute_result"
    }
   ],
   "source": [
    "field_info_type = defaultdict(dict)\n",
    "\n",
    "for service_name, schema in schemas.items():\n",
    "    query_slots = set()\n",
    "    trans_slots = set()\n",
    "    for intent in schema['intents']:\n",
    "        if not intent['is_transactional']:\n",
    "            query_slots.update(intent['required_slots'])\n",
    "            query_slots.update(intent['optional_slots'].keys())\n",
    "            query_slots.update(intent['result_slots'])\n",
    "        else:\n",
    "            trans_slots.update(intent['required_slots'])\n",
    "            trans_slots.update(intent['optional_slots'].keys())\n",
    "            trans_slots.update(intent['result_slots'])\n",
    "    for slot in query_slots:\n",
    "        trans_slots.discard(slot)\n",
    "\n",
    "    for slot in schema['slots']:\n",
    "        field = slot['name']\n",
    "        if field not in trans_slots:\n",
    "            field_info_type[service_name][field] = 'info'\n",
    "        else:\n",
    "            field_info_type[service_name][field] = 'tran'\n",
    "\n",
    "\n",
    "field_info_type['Events_1']"
   ]
  },
  {
   "cell_type": "markdown",
   "metadata": {},
   "source": [
    "## Create Info DB"
   ]
  },
  {
   "cell_type": "code",
   "execution_count": 9,
   "metadata": {},
   "outputs": [],
   "source": [
    "import sqlite3\n",
    "\n",
    "from sgd.utils import INFO_DB_PATH\n",
    "\n",
    "conn = sqlite3.connect(INFO_DB_PATH)\n",
    "for service_name, schema in schemas.items():\n",
    "    # Create Table\n",
    "    sql = []\n",
    "    sql.append(f'CREATE TABLE {service_name} (')\n",
    "    sql.append('id INTEGER PRIMARY KEY,')\n",
    "    for slot in schema['slots']:\n",
    "        field = slot['name']\n",
    "        if field_info_type[service_name][field] != 'info':\n",
    "            continue\n",
    "        type = field_data_type[service_name][field]\n",
    "        sql.append(f'\"{slot[\"name\"]}\" {type} COLLATE NOCASE,')\n",
    "    sql[-1] = sql[-1].rstrip(',') + ')'\n",
    "    sql = '\\n'.join(sql)\n",
    "\n",
    "    cursor = conn.cursor()\n",
    "    cursor.execute(sql)\n",
    "    cursor.close()\n",
    "\n",
    "    # Insert\n",
    "    def apply_type(item, type_map):\n",
    "        values = []\n",
    "        for field, v in item.items():\n",
    "            type = type_map[field]\n",
    "            if type == 'INTEGER':\n",
    "                v = int(v)\n",
    "            elif type == 'REAL':\n",
    "                v = float(v)\n",
    "            values.append(v)\n",
    "        return values\n",
    "\n",
    "    cursor = conn.cursor()\n",
    "    for item in tables[service_name]:\n",
    "        sql = f'INSERT INTO {service_name} ('\n",
    "        sql += ', '.join(f'\"{field}\"' for field in item.keys())\n",
    "        sql += ') VALUES ('\n",
    "        sql += ', '.join(['?'] * len(item))\n",
    "        sql += ')'\n",
    "        values = apply_type(item, field_data_type[service_name])\n",
    "        cursor.execute(sql, values)\n",
    "    conn.commit()\n",
    "    cursor.close()\n",
    "conn.close()"
   ]
  },
  {
   "cell_type": "markdown",
   "metadata": {},
   "source": [
    "## Create Transaction DB"
   ]
  },
  {
   "cell_type": "code",
   "execution_count": 10,
   "metadata": {},
   "outputs": [],
   "source": [
    "import sqlite3\n",
    "\n",
    "from sgd.utils import TRANS_DB_PATH\n",
    "\n",
    "conn = sqlite3.connect(TRANS_DB_PATH)\n",
    "for service_name, schema in schemas.items():\n",
    "    sql = f'CREATE TABLE {service_name}_Transaction ('\n",
    "    sql += 'id INTEGER PRIMARY KEY,'\n",
    "    for slot in schema['slots']:\n",
    "        field = slot['name']\n",
    "        type = field_data_type[service_name][field]\n",
    "        sql += f'\"{field}\" {type} COLLATE NOCASE,'\n",
    "    sql += 'refer_number TEXT COLLATE NOCASE)'\n",
    "\n",
    "    cursor = conn.cursor()\n",
    "    cursor.execute(sql)\n",
    "    cursor.close()\n",
    "conn.close()"
   ]
  }
 ],
 "metadata": {
  "kernelspec": {
   "display_name": "base",
   "language": "python",
   "name": "python3"
  },
  "language_info": {
   "codemirror_mode": {
    "name": "ipython",
    "version": 3
   },
   "file_extension": ".py",
   "mimetype": "text/x-python",
   "name": "python",
   "nbconvert_exporter": "python",
   "pygments_lexer": "ipython3",
   "version": "3.9.1"
  },
  "orig_nbformat": 4
 },
 "nbformat": 4,
 "nbformat_minor": 2
}
